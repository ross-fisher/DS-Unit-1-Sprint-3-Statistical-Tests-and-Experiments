{
 "cells": [
  {
   "cell_type": "markdown",
   "metadata": {},
   "source": [
    "<img align=\"left\" src=\"https://lever-client-logos.s3.amazonaws.com/864372b1-534c-480e-acd5-9711f850815c-1524247202159.png\" width=200>\n",
    "<br></br>\n",
    "<br></br>\n",
    "\n",
    "## *Data Science Unit 1 Sprint 3 Assignment 1*\n",
    "\n",
    "# Apply the t-test to real data\n",
    "\n",
    "Your assignment is to determine which issues have \"statistically significant\" differences between political parties in this [1980s congressional voting data](https://archive.ics.uci.edu/ml/datasets/Congressional+Voting+Records). The data consists of 435 instances (one for each congressperson), a class (democrat or republican), and 16 binary attributes (yes or no for voting for or against certain issues). Be aware - there are missing values!\n",
    "\n",
    "Your goals:\n",
    "\n",
    "1. Load and clean the data (or determine the best method to drop observations when running tests)\n",
    "2. Using hypothesis testing, find an issue that democrats support more than republicans with p < 0.01\n",
    "3. Using hypothesis testing, find an issue that republicans support more than democrats with p < 0.01\n",
    "4. Using hypothesis testing, find an issue where the difference between republicans and democrats has p > 0.1 (i.e. there may not be much of a difference)\n",
    "\n",
    "Note that this data will involve *2 sample* t-tests, because you're comparing averages across two groups (republicans and democrats) rather than a single group against a null hypothesis.\n",
    "\n",
    "Stretch goals:\n",
    "\n",
    "1. Refactor your code into functions so it's easy to rerun with arbitrary variables\n",
    "2. Apply hypothesis testing to your personal project data (for the purposes of this notebook you can type a summary of the hypothesis you formed and tested)"
   ]
  },
  {
   "cell_type": "code",
   "execution_count": 1,
   "metadata": {},
   "outputs": [
    {
     "name": "stdout",
     "output_type": "stream",
     "text": [
      "--2019-08-19 17:56:17--  https://archive.ics.uci.edu/ml/machine-learning-databases/voting-records/house-votes-84.data\n",
      "Loaded CA certificate '/etc/ssl/certs/ca-certificates.crt'\n",
      "Resolving archive.ics.uci.edu (archive.ics.uci.edu)... 128.195.10.252\n",
      "Connecting to archive.ics.uci.edu (archive.ics.uci.edu)|128.195.10.252|:443... connected.\n",
      "HTTP request sent, awaiting response... 200 OK\n",
      "Length: 18171 (18K) [application/x-httpd-php]\n",
      "Saving to: ‘house-votes-84.data.2’\n",
      "\n",
      "house-votes-84.data 100%[===================>]  17.75K  --.-KB/s    in 0.05s   \n",
      "\n",
      "2019-08-19 17:56:18 (392 KB/s) - ‘house-votes-84.data.2’ saved [18171/18171]\n",
      "\n"
     ]
    }
   ],
   "source": [
    "!wget https://archive.ics.uci.edu/ml/machine-learning-databases/voting-records/house-votes-84.data"
   ]
  },
  {
   "cell_type": "code",
   "execution_count": 2,
   "metadata": {
    "inputHidden": false,
    "outputHidden": false
   },
   "outputs": [
    {
     "name": "stdout",
     "output_type": "stream",
     "text": [
      "republican,n,y,n,y,y,y,n,n,n,y,?,y,y,y,n,y\r\n",
      "republican,n,y,n,y,y,y,n,n,n,n,n,y,y,y,n,?\r\n",
      "democrat,?,y,y,?,y,y,n,n,n,n,y,n,y,y,n,n\r\n",
      "democrat,n,y,y,n,?,y,n,n,n,n,y,n,y,n,n,y\r\n",
      "democrat,y,y,y,n,y,y,n,n,n,n,y,?,y,y,y,y\r\n",
      "democrat,n,y,y,n,y,y,n,n,n,n,n,n,y,y,y,y\r\n",
      "democrat,n,y,n,y,y,y,n,n,n,n,n,n,?,y,y,y\r\n",
      "republican,n,y,n,y,y,y,n,n,n,n,n,n,y,y,?,y\r\n",
      "republican,n,y,n,y,y,y,n,n,n,n,n,y,y,y,n,y\r\n",
      "democrat,y,y,y,n,n,n,y,y,y,n,n,n,n,n,?,?\r\n"
     ]
    }
   ],
   "source": [
    "!head house-votes-84.data"
   ]
  },
  {
   "cell_type": "code",
   "execution_count": 3,
   "metadata": {
    "inputHidden": false,
    "outputHidden": false
   },
   "outputs": [],
   "source": [
    "import pandas as pd\n",
    "import numpy as np"
   ]
  },
  {
   "cell_type": "code",
   "execution_count": 4,
   "metadata": {
    "inputHidden": false,
    "outputHidden": false
   },
   "outputs": [
    {
     "data": {
      "text/html": [
       "<div>\n",
       "<style scoped>\n",
       "    .dataframe tbody tr th:only-of-type {\n",
       "        vertical-align: middle;\n",
       "    }\n",
       "\n",
       "    .dataframe tbody tr th {\n",
       "        vertical-align: top;\n",
       "    }\n",
       "\n",
       "    .dataframe thead th {\n",
       "        text-align: right;\n",
       "    }\n",
       "</style>\n",
       "<table border=\"1\" class=\"dataframe\">\n",
       "  <thead>\n",
       "    <tr style=\"text-align: right;\">\n",
       "      <th></th>\n",
       "      <th>party</th>\n",
       "      <th>handicapped-infants</th>\n",
       "      <th>water-project</th>\n",
       "      <th>budget</th>\n",
       "      <th>physician-fee-freeze</th>\n",
       "      <th>el-salvador-aid</th>\n",
       "      <th>religious-groups</th>\n",
       "      <th>anti-satellite-ban</th>\n",
       "      <th>aid-to-contras</th>\n",
       "      <th>mx-missile</th>\n",
       "      <th>immigration</th>\n",
       "      <th>synfuels</th>\n",
       "      <th>education</th>\n",
       "      <th>right-to-sue</th>\n",
       "      <th>crime</th>\n",
       "      <th>duty-free</th>\n",
       "      <th>south-africa</th>\n",
       "    </tr>\n",
       "  </thead>\n",
       "  <tbody>\n",
       "    <tr>\n",
       "      <th>0</th>\n",
       "      <td>republican</td>\n",
       "      <td>n</td>\n",
       "      <td>y</td>\n",
       "      <td>n</td>\n",
       "      <td>y</td>\n",
       "      <td>y</td>\n",
       "      <td>y</td>\n",
       "      <td>n</td>\n",
       "      <td>n</td>\n",
       "      <td>n</td>\n",
       "      <td>y</td>\n",
       "      <td>?</td>\n",
       "      <td>y</td>\n",
       "      <td>y</td>\n",
       "      <td>y</td>\n",
       "      <td>n</td>\n",
       "      <td>y</td>\n",
       "    </tr>\n",
       "    <tr>\n",
       "      <th>1</th>\n",
       "      <td>republican</td>\n",
       "      <td>n</td>\n",
       "      <td>y</td>\n",
       "      <td>n</td>\n",
       "      <td>y</td>\n",
       "      <td>y</td>\n",
       "      <td>y</td>\n",
       "      <td>n</td>\n",
       "      <td>n</td>\n",
       "      <td>n</td>\n",
       "      <td>n</td>\n",
       "      <td>n</td>\n",
       "      <td>y</td>\n",
       "      <td>y</td>\n",
       "      <td>y</td>\n",
       "      <td>n</td>\n",
       "      <td>?</td>\n",
       "    </tr>\n",
       "    <tr>\n",
       "      <th>2</th>\n",
       "      <td>democrat</td>\n",
       "      <td>?</td>\n",
       "      <td>y</td>\n",
       "      <td>y</td>\n",
       "      <td>?</td>\n",
       "      <td>y</td>\n",
       "      <td>y</td>\n",
       "      <td>n</td>\n",
       "      <td>n</td>\n",
       "      <td>n</td>\n",
       "      <td>n</td>\n",
       "      <td>y</td>\n",
       "      <td>n</td>\n",
       "      <td>y</td>\n",
       "      <td>y</td>\n",
       "      <td>n</td>\n",
       "      <td>n</td>\n",
       "    </tr>\n",
       "    <tr>\n",
       "      <th>3</th>\n",
       "      <td>democrat</td>\n",
       "      <td>n</td>\n",
       "      <td>y</td>\n",
       "      <td>y</td>\n",
       "      <td>n</td>\n",
       "      <td>?</td>\n",
       "      <td>y</td>\n",
       "      <td>n</td>\n",
       "      <td>n</td>\n",
       "      <td>n</td>\n",
       "      <td>n</td>\n",
       "      <td>y</td>\n",
       "      <td>n</td>\n",
       "      <td>y</td>\n",
       "      <td>n</td>\n",
       "      <td>n</td>\n",
       "      <td>y</td>\n",
       "    </tr>\n",
       "    <tr>\n",
       "      <th>4</th>\n",
       "      <td>democrat</td>\n",
       "      <td>y</td>\n",
       "      <td>y</td>\n",
       "      <td>y</td>\n",
       "      <td>n</td>\n",
       "      <td>y</td>\n",
       "      <td>y</td>\n",
       "      <td>n</td>\n",
       "      <td>n</td>\n",
       "      <td>n</td>\n",
       "      <td>n</td>\n",
       "      <td>y</td>\n",
       "      <td>?</td>\n",
       "      <td>y</td>\n",
       "      <td>y</td>\n",
       "      <td>y</td>\n",
       "      <td>y</td>\n",
       "    </tr>\n",
       "  </tbody>\n",
       "</table>\n",
       "</div>"
      ],
      "text/plain": [
       "        party handicapped-infants water-project budget physician-fee-freeze  \\\n",
       "0  republican                   n             y      n                    y   \n",
       "1  republican                   n             y      n                    y   \n",
       "2    democrat                   ?             y      y                    ?   \n",
       "3    democrat                   n             y      y                    n   \n",
       "4    democrat                   y             y      y                    n   \n",
       "\n",
       "  el-salvador-aid religious-groups anti-satellite-ban aid-to-contras  \\\n",
       "0               y                y                  n              n   \n",
       "1               y                y                  n              n   \n",
       "2               y                y                  n              n   \n",
       "3               ?                y                  n              n   \n",
       "4               y                y                  n              n   \n",
       "\n",
       "  mx-missile immigration synfuels education right-to-sue crime duty-free  \\\n",
       "0          n           y        ?         y            y     y         n   \n",
       "1          n           n        n         y            y     y         n   \n",
       "2          n           n        y         n            y     y         n   \n",
       "3          n           n        y         n            y     n         n   \n",
       "4          n           n        y         ?            y     y         y   \n",
       "\n",
       "  south-africa  \n",
       "0            y  \n",
       "1            ?  \n",
       "2            n  \n",
       "3            y  \n",
       "4            y  "
      ]
     },
     "execution_count": 4,
     "metadata": {},
     "output_type": "execute_result"
    }
   ],
   "source": [
    "df = pd.read_csv('house-votes-84.data', header=None\n",
    "                 , names=['party','handicapped-infants','water-project',\n",
    "                          'budget','physician-fee-freeze', 'el-salvador-aid',\n",
    "                          'religious-groups','anti-satellite-ban',\n",
    "                          'aid-to-contras','mx-missile','immigration',\n",
    "                          'synfuels', 'education', 'right-to-sue','crime','duty-free',\n",
    "                          'south-africa'])\n",
    "\n",
    "df.head()"
   ]
  },
  {
   "cell_type": "code",
   "execution_count": 5,
   "metadata": {
    "inputHidden": false,
    "outputHidden": false
   },
   "outputs": [
    {
     "data": {
      "text/plain": [
       "party                     0\n",
       "handicapped-infants      12\n",
       "water-project            48\n",
       "budget                   11\n",
       "physician-fee-freeze     11\n",
       "el-salvador-aid          15\n",
       "religious-groups         11\n",
       "anti-satellite-ban       14\n",
       "aid-to-contras           15\n",
       "mx-missile               22\n",
       "immigration               7\n",
       "synfuels                 21\n",
       "education                31\n",
       "right-to-sue             25\n",
       "crime                    17\n",
       "duty-free                28\n",
       "south-africa            104\n",
       "dtype: int64"
      ]
     },
     "execution_count": 5,
     "metadata": {},
     "output_type": "execute_result"
    }
   ],
   "source": [
    "df = df.replace({\"?\" : np.NaN, \"y\" : 1, \"n\" : 0})\n",
    "df.isnull().sum()"
   ]
  },
  {
   "cell_type": "code",
   "execution_count": 6,
   "metadata": {
    "inputHidden": false,
    "outputHidden": false
   },
   "outputs": [],
   "source": [
    "rep = df[df.party == 'republican']\n",
    "dem = df[df.party == 'democrat']\n",
    "\n",
    "\n",
    "import collections\n",
    "from scipy.stats import ttest_1samp\n",
    "import pprint\n",
    "\n",
    "def bprint(*args, indent=4):\n",
    "    pprint.pprint(args,indent=4)\n",
    "    \n",
    "\n",
    "# flattens nested dictionaries by making dict.subdict.somekey into a new key subdict__somekey under dict\n",
    "# https://stackoverflow.com/questions/6027558/flatten-nested-dictionaries-compressing-keys\n",
    "def flatten(d, parent_key='', sep='__'):\n",
    "    items = []\n",
    "    for k, v in d.items():\n",
    "        new_key = parent_key + sep + k if parent_key else k\n",
    "        if isinstance(v, collections.MutableMapping):\n",
    "            items.extend(flatten(v, new_key, sep=sep).items())\n",
    "        else:\n",
    "            items.append((new_key, v))\n",
    "    return dict(items)\n",
    "    \n",
    "# force map to evaluate and put the result into a list\n",
    "def Map(func, x):\n",
    "    v = []\n",
    "    for thing in map(func, x):\n",
    "        v.append(thing)\n",
    "    return v\n",
    "\n",
    "# coerce to dict\n",
    "def Dict(thing):\n",
    "    # fix for named tuples\n",
    "    if getattr(thing, \"_asdict\"):\n",
    "        return dict(thing._asdict())\n",
    "    else:\n",
    "        return dict(thing)\n",
    "     \n",
    "    "
   ]
  },
  {
   "cell_type": "code",
   "execution_count": 7,
   "metadata": {
    "inputHidden": false,
    "outputHidden": false
   },
   "outputs": [
    {
     "data": {
      "text/plain": [
       "[handicapped-infants       (6.159569669016066, 5.434587970316366e-09)\n",
       " water-project             (12.28932045559371, 2.525482675130834e-24)\n",
       " budget                    (5.02528816355446, 1.3107521045196396e-06)\n",
       " physician-fee-freeze    (115.61141812122193, 4.438624448197153e-159)\n",
       " el-salvador-aid         (56.73182528352142, 1.0573299896233442e-109)\n",
       " religious-groups         (38.02862698794469, 1.4751069893318224e-83)\n",
       " anti-satellite-ban          (7.1448429295405, 2.954236755913103e-11)\n",
       " aid-to-contras           (5.305692786041199, 3.7903923869499887e-07)\n",
       " mx-missile                  (4.61979066121233, 7.73159348469265e-06)\n",
       " immigration              (14.376541013291384, 7.541248569126767e-31)\n",
       " synfuels                 (4.903414959073885, 2.3188606914425685e-06)\n",
       " education                 (32.24127789030702, 2.295255722861058e-70)\n",
       " right-to-sue            (31.153578519095596, 4.1784590643494416e-69)\n",
       " crime                    (91.79687721631203, 2.672177432250972e-140)\n",
       " duty-free               (3.9091802389817065, 0.00013809783981978333)\n",
       " south-africa            (16.685322891691367, 1.4783110062038894e-35)\n",
       " dtype: object,\n",
       " handicapped-infants     (19.825711173357988, 1.0391992873567661e-53)\n",
       " water-project             (15.49193338482967, 6.633846650320544e-38)\n",
       " budget                  (45.42101898369565, 2.3005685556379574e-125)\n",
       " physician-fee-freeze     (3.8396428405331067, 0.0001550891349511097)\n",
       " el-salvador-aid          (8.357631243360764, 4.2308289907515245e-15)\n",
       " religious-groups         (15.302142188450464, 5.132676545586625e-38)\n",
       " anti-satellite-ban       (29.573235723985977, 7.509185299794888e-85)\n",
       " aid-to-contras           (35.62645708521189, 1.947251169415608e-102)\n",
       " mx-missile                (27.81965731876173, 4.483744774315864e-78)\n",
       " immigration               (15.28812018218839, 3.754505831904643e-38)\n",
       " synfuels                 (16.125992032976423, 9.159793118867048e-41)\n",
       " education                 (6.474217555639174, 5.068051786108534e-10)\n",
       " right-to-sue            (10.117466505584296, 2.1080670854972635e-20)\n",
       " crime                    (11.745810821577512, 9.087409645908879e-26)\n",
       " duty-free                 (20.965696734438367, 5.25166154167096e-57)\n",
       " south-africa            (51.50404514857709, 3.0776391937291054e-111)\n",
       " dtype: object]"
      ]
     },
     "execution_count": 7,
     "metadata": {},
     "output_type": "execute_result"
    }
   ],
   "source": [
    "# checking out the 1samp quickly\n",
    "foobar = lambda df: df.drop('party',axis=1).apply(lambda column: ttest_1samp(column, 0, nan_policy='omit'))\n",
    "Map(foobar, [rep, dem])"
   ]
  },
  {
   "cell_type": "code",
   "execution_count": 8,
   "metadata": {
    "inputHidden": false,
    "outputHidden": false
   },
   "outputs": [
    {
     "name": "stdout",
     "output_type": "stream",
     "text": [
      "(   'TTest_Ind',\n",
      "    [   {   'column': 'handicapped-infants',\n",
      "            'mean_dem': 0.6046511627906976,\n",
      "            'mean_rep': 0.18787878787878787,\n",
      "            'result': {   'pvalue': 1.613440327937243e-18,\n",
      "                          'statistic': -9.205264294809222}},\n",
      "        {   'column': 'water-project',\n",
      "            'mean_dem': 0.502092050209205,\n",
      "            'mean_rep': 0.5067567567567568,\n",
      "            'result': {   'pvalue': 0.9291556823993485,\n",
      "                          'statistic': 0.08896538137868286}},\n",
      "        {   'column': 'budget',\n",
      "            'mean_dem': 0.8884615384615384,\n",
      "            'mean_rep': 0.13414634146341464,\n",
      "            'result': {   'pvalue': 2.0703402795404463e-77,\n",
      "                          'statistic': -23.21277691701378}},\n",
      "        {   'column': 'physician-fee-freeze',\n",
      "            'mean_dem': 0.05405405405405406,\n",
      "            'mean_rep': 0.9878787878787879,\n",
      "            'result': {   'pvalue': 1.994262314074344e-177,\n",
      "                          'statistic': 49.36708157301406}},\n",
      "        {   'column': 'el-salvador-aid',\n",
      "            'mean_dem': 0.21568627450980393,\n",
      "            'mean_rep': 0.9515151515151515,\n",
      "            'result': {   'pvalue': 5.600520111729011e-68,\n",
      "                          'statistic': 21.13669261173219}},\n",
      "        {   'column': 'religious-groups',\n",
      "            'mean_dem': 0.47674418604651164,\n",
      "            'mean_rep': 0.8975903614457831,\n",
      "            'result': {   'pvalue': 2.3936722520597287e-20,\n",
      "                          'statistic': 9.737575825219457}},\n",
      "        {   'column': 'anti-satellite-ban',\n",
      "            'mean_dem': 0.7722007722007722,\n",
      "            'mean_rep': 0.24074074074074073,\n",
      "            'result': {   'pvalue': 8.521033017443867e-31,\n",
      "                          'statistic': -12.526187929077842}},\n",
      "        {   'column': 'aid-to-contras',\n",
      "            'mean_dem': 0.8288973384030418,\n",
      "            'mean_rep': 0.15286624203821655,\n",
      "            'result': {   'pvalue': 2.82471841372357e-54,\n",
      "                          'statistic': -18.052093200819733}},\n",
      "        {   'column': 'mx-missile',\n",
      "            'mean_dem': 0.7580645161290323,\n",
      "            'mean_rep': 0.11515151515151516,\n",
      "            'result': {   'pvalue': 5.03079265310811e-47,\n",
      "                          'statistic': -16.437503268542994}},\n",
      "        {   'column': 'immigration',\n",
      "            'mean_dem': 0.4714828897338403,\n",
      "            'mean_rep': 0.5575757575757576,\n",
      "            'result': {   'pvalue': 0.08330248490425066,\n",
      "                          'statistic': 1.7359117329695164}},\n",
      "        {   'column': 'synfuels',\n",
      "            'mean_dem': 0.5058823529411764,\n",
      "            'mean_rep': 0.1320754716981132,\n",
      "            'result': {   'pvalue': 1.5759322301054064e-15,\n",
      "                          'statistic': -8.293603989407588}},\n",
      "        {   'column': 'education',\n",
      "            'mean_dem': 0.14457831325301204,\n",
      "            'mean_rep': 0.8709677419354839,\n",
      "            'result': {   'pvalue': 1.8834203990450192e-64,\n",
      "                          'statistic': 20.500685724563073}},\n",
      "        {   'column': 'right-to-sue',\n",
      "            'mean_dem': 0.2896825396825397,\n",
      "            'mean_rep': 0.8607594936708861,\n",
      "            'result': {   'pvalue': 1.2278581709672758e-34,\n",
      "                          'statistic': 13.51064251060933}},\n",
      "        {   'column': 'crime',\n",
      "            'mean_dem': 0.35019455252918286,\n",
      "            'mean_rep': 0.9813664596273292,\n",
      "            'result': {   'pvalue': 9.952342705606092e-47,\n",
      "                          'statistic': 16.342085656197696}},\n",
      "        {   'column': 'duty-free',\n",
      "            'mean_dem': 0.6374501992031872,\n",
      "            'mean_rep': 0.08974358974358974,\n",
      "            'result': {   'pvalue': 5.997697174347365e-32,\n",
      "                          'statistic': -12.853146132542978}},\n",
      "        {   'column': 'south-africa',\n",
      "            'mean_dem': 0.9351351351351351,\n",
      "            'mean_rep': 0.6575342465753424,\n",
      "            'result': {   'pvalue': 3.652674361672226e-11,\n",
      "                          'statistic': -6.849454815841208}}])\n"
     ]
    }
   ],
   "source": [
    "from scipy.stats import ttest_ind\n",
    "\n",
    "# ttest_ind now between the two dataframes\n",
    "np_rep = rep.drop('party',axis=1)\n",
    "np_dem = dem.drop('party',axis=1)\n",
    "    \n",
    "ttest_ind_results = Map(lambda column: {\"column\": column,\n",
    "                                        \"result\": Dict(ttest_ind(np_rep[column], np_dem[column], nan_policy='omit')),\n",
    "                                        \"mean_rep\": np_rep[column].mean(), \n",
    "                                        \"mean_dem\": np_dem[column].mean()}, \n",
    "                        np_rep.columns)\n",
    "bprint(\"TTest_Ind\", ttest_ind_results)"
   ]
  },
  {
   "cell_type": "code",
   "execution_count": 9,
   "metadata": {
    "inputHidden": false,
    "outputHidden": false
   },
   "outputs": [
    {
     "name": "stdout",
     "output_type": "stream",
     "text": [
      "Null Hypothesis:\n",
      "\tSupport among the two parties for handicapped-infants is equal \n",
      "Status:\tReject \n",
      "Democrat Mean Support: 0.6046511627906976 \n",
      "Republican Mean Support: 0.18787878787878787 \n",
      "\n",
      "Null Hypothesis:\n",
      "\tSupport among the two parties for water-project is equal \n",
      "Status:\tUnable to Reject \n",
      "Democrat Mean Support: 0.502092050209205 \n",
      "Republican Mean Support: 0.5067567567567568 \n",
      "\n",
      "Null Hypothesis:\n",
      "\tSupport among the two parties for budget is equal \n",
      "Status:\tReject \n",
      "Democrat Mean Support: 0.8884615384615384 \n",
      "Republican Mean Support: 0.13414634146341464 \n",
      "\n",
      "Null Hypothesis:\n",
      "\tSupport among the two parties for physician-fee-freeze is equal \n",
      "Status:\tReject \n",
      "Democrat Mean Support: 0.05405405405405406 \n",
      "Republican Mean Support: 0.9878787878787879 \n",
      "\n",
      "Null Hypothesis:\n",
      "\tSupport among the two parties for el-salvador-aid is equal \n",
      "Status:\tReject \n",
      "Democrat Mean Support: 0.21568627450980393 \n",
      "Republican Mean Support: 0.9515151515151515 \n",
      "\n",
      "Null Hypothesis:\n",
      "\tSupport among the two parties for religious-groups is equal \n",
      "Status:\tReject \n",
      "Democrat Mean Support: 0.47674418604651164 \n",
      "Republican Mean Support: 0.8975903614457831 \n",
      "\n",
      "Null Hypothesis:\n",
      "\tSupport among the two parties for anti-satellite-ban is equal \n",
      "Status:\tReject \n",
      "Democrat Mean Support: 0.7722007722007722 \n",
      "Republican Mean Support: 0.24074074074074073 \n",
      "\n",
      "Null Hypothesis:\n",
      "\tSupport among the two parties for aid-to-contras is equal \n",
      "Status:\tReject \n",
      "Democrat Mean Support: 0.8288973384030418 \n",
      "Republican Mean Support: 0.15286624203821655 \n",
      "\n",
      "Null Hypothesis:\n",
      "\tSupport among the two parties for mx-missile is equal \n",
      "Status:\tReject \n",
      "Democrat Mean Support: 0.7580645161290323 \n",
      "Republican Mean Support: 0.11515151515151516 \n",
      "\n",
      "Null Hypothesis:\n",
      "\tSupport among the two parties for immigration is equal \n",
      "Status:\tUnable to Reject \n",
      "Democrat Mean Support: 0.4714828897338403 \n",
      "Republican Mean Support: 0.5575757575757576 \n",
      "\n",
      "Null Hypothesis:\n",
      "\tSupport among the two parties for synfuels is equal \n",
      "Status:\tReject \n",
      "Democrat Mean Support: 0.5058823529411764 \n",
      "Republican Mean Support: 0.1320754716981132 \n",
      "\n",
      "Null Hypothesis:\n",
      "\tSupport among the two parties for education is equal \n",
      "Status:\tReject \n",
      "Democrat Mean Support: 0.14457831325301204 \n",
      "Republican Mean Support: 0.8709677419354839 \n",
      "\n",
      "Null Hypothesis:\n",
      "\tSupport among the two parties for right-to-sue is equal \n",
      "Status:\tReject \n",
      "Democrat Mean Support: 0.2896825396825397 \n",
      "Republican Mean Support: 0.8607594936708861 \n",
      "\n",
      "Null Hypothesis:\n",
      "\tSupport among the two parties for crime is equal \n",
      "Status:\tReject \n",
      "Democrat Mean Support: 0.35019455252918286 \n",
      "Republican Mean Support: 0.9813664596273292 \n",
      "\n",
      "Null Hypothesis:\n",
      "\tSupport among the two parties for duty-free is equal \n",
      "Status:\tReject \n",
      "Democrat Mean Support: 0.6374501992031872 \n",
      "Republican Mean Support: 0.08974358974358974 \n",
      "\n",
      "Null Hypothesis:\n",
      "\tSupport among the two parties for south-africa is equal \n",
      "Status:\tReject \n",
      "Democrat Mean Support: 0.9351351351351351 \n",
      "Republican Mean Support: 0.6575342465753424 \n",
      "\n"
     ]
    }
   ],
   "source": [
    "def print_test_result(result_dict):\n",
    "    print(\"Null Hypothesis:\\n\\tSupport among the two parties for {} is equal\".format(result_dict['column']),\n",
    "          \"\\nStatus:\\t{}\".format( \"Reject\" if result_dict['result']['pvalue'] < 0.05  else \"Unable to Reject\"),\n",
    "          \"\\nDemocrat Mean Support: {}\".format(result_dict['mean_dem']),\n",
    "          \"\\nRepublican Mean Support: {}\".format(result_dict['mean_rep']),\n",
    "          \"\\n\")\n",
    "\n",
    "Map(lambda result_dict: print_test_result(result_dict), ttest_ind_results);"
   ]
  },
  {
   "cell_type": "code",
   "execution_count": 10,
   "metadata": {
    "inputHidden": false,
    "outputHidden": false
   },
   "outputs": [
    {
     "name": "stderr",
     "output_type": "stream",
     "text": [
      "/usr/lib/python3.7/site-packages/ipykernel_launcher.py:19: DeprecationWarning: Using or importing the ABCs from 'collections' instead of from 'collections.abc' is deprecated, and in 3.8 it will stop working\n"
     ]
    },
    {
     "data": {
      "text/html": [
       "<div>\n",
       "<style scoped>\n",
       "    .dataframe tbody tr th:only-of-type {\n",
       "        vertical-align: middle;\n",
       "    }\n",
       "\n",
       "    .dataframe tbody tr th {\n",
       "        vertical-align: top;\n",
       "    }\n",
       "\n",
       "    .dataframe thead th {\n",
       "        text-align: right;\n",
       "    }\n",
       "</style>\n",
       "<table border=\"1\" class=\"dataframe\">\n",
       "  <thead>\n",
       "    <tr style=\"text-align: right;\">\n",
       "      <th></th>\n",
       "      <th>column</th>\n",
       "      <th>result__statistic</th>\n",
       "      <th>result__pvalue</th>\n",
       "      <th>mean_rep</th>\n",
       "      <th>mean_dem</th>\n",
       "    </tr>\n",
       "  </thead>\n",
       "  <tbody>\n",
       "    <tr>\n",
       "      <th>0</th>\n",
       "      <td>handicapped-infants</td>\n",
       "      <td>-9.205264</td>\n",
       "      <td>1.613440e-18</td>\n",
       "      <td>0.187879</td>\n",
       "      <td>0.604651</td>\n",
       "    </tr>\n",
       "    <tr>\n",
       "      <th>1</th>\n",
       "      <td>water-project</td>\n",
       "      <td>0.088965</td>\n",
       "      <td>9.291557e-01</td>\n",
       "      <td>0.506757</td>\n",
       "      <td>0.502092</td>\n",
       "    </tr>\n",
       "    <tr>\n",
       "      <th>2</th>\n",
       "      <td>budget</td>\n",
       "      <td>-23.212777</td>\n",
       "      <td>2.070340e-77</td>\n",
       "      <td>0.134146</td>\n",
       "      <td>0.888462</td>\n",
       "    </tr>\n",
       "    <tr>\n",
       "      <th>3</th>\n",
       "      <td>physician-fee-freeze</td>\n",
       "      <td>49.367082</td>\n",
       "      <td>1.994262e-177</td>\n",
       "      <td>0.987879</td>\n",
       "      <td>0.054054</td>\n",
       "    </tr>\n",
       "    <tr>\n",
       "      <th>4</th>\n",
       "      <td>el-salvador-aid</td>\n",
       "      <td>21.136693</td>\n",
       "      <td>5.600520e-68</td>\n",
       "      <td>0.951515</td>\n",
       "      <td>0.215686</td>\n",
       "    </tr>\n",
       "    <tr>\n",
       "      <th>5</th>\n",
       "      <td>religious-groups</td>\n",
       "      <td>9.737576</td>\n",
       "      <td>2.393672e-20</td>\n",
       "      <td>0.897590</td>\n",
       "      <td>0.476744</td>\n",
       "    </tr>\n",
       "    <tr>\n",
       "      <th>6</th>\n",
       "      <td>anti-satellite-ban</td>\n",
       "      <td>-12.526188</td>\n",
       "      <td>8.521033e-31</td>\n",
       "      <td>0.240741</td>\n",
       "      <td>0.772201</td>\n",
       "    </tr>\n",
       "    <tr>\n",
       "      <th>7</th>\n",
       "      <td>aid-to-contras</td>\n",
       "      <td>-18.052093</td>\n",
       "      <td>2.824718e-54</td>\n",
       "      <td>0.152866</td>\n",
       "      <td>0.828897</td>\n",
       "    </tr>\n",
       "    <tr>\n",
       "      <th>8</th>\n",
       "      <td>mx-missile</td>\n",
       "      <td>-16.437503</td>\n",
       "      <td>5.030793e-47</td>\n",
       "      <td>0.115152</td>\n",
       "      <td>0.758065</td>\n",
       "    </tr>\n",
       "    <tr>\n",
       "      <th>9</th>\n",
       "      <td>immigration</td>\n",
       "      <td>1.735912</td>\n",
       "      <td>8.330248e-02</td>\n",
       "      <td>0.557576</td>\n",
       "      <td>0.471483</td>\n",
       "    </tr>\n",
       "    <tr>\n",
       "      <th>10</th>\n",
       "      <td>synfuels</td>\n",
       "      <td>-8.293604</td>\n",
       "      <td>1.575932e-15</td>\n",
       "      <td>0.132075</td>\n",
       "      <td>0.505882</td>\n",
       "    </tr>\n",
       "    <tr>\n",
       "      <th>11</th>\n",
       "      <td>education</td>\n",
       "      <td>20.500686</td>\n",
       "      <td>1.883420e-64</td>\n",
       "      <td>0.870968</td>\n",
       "      <td>0.144578</td>\n",
       "    </tr>\n",
       "    <tr>\n",
       "      <th>12</th>\n",
       "      <td>right-to-sue</td>\n",
       "      <td>13.510643</td>\n",
       "      <td>1.227858e-34</td>\n",
       "      <td>0.860759</td>\n",
       "      <td>0.289683</td>\n",
       "    </tr>\n",
       "    <tr>\n",
       "      <th>13</th>\n",
       "      <td>crime</td>\n",
       "      <td>16.342086</td>\n",
       "      <td>9.952343e-47</td>\n",
       "      <td>0.981366</td>\n",
       "      <td>0.350195</td>\n",
       "    </tr>\n",
       "    <tr>\n",
       "      <th>14</th>\n",
       "      <td>duty-free</td>\n",
       "      <td>-12.853146</td>\n",
       "      <td>5.997697e-32</td>\n",
       "      <td>0.089744</td>\n",
       "      <td>0.637450</td>\n",
       "    </tr>\n",
       "    <tr>\n",
       "      <th>15</th>\n",
       "      <td>south-africa</td>\n",
       "      <td>-6.849455</td>\n",
       "      <td>3.652674e-11</td>\n",
       "      <td>0.657534</td>\n",
       "      <td>0.935135</td>\n",
       "    </tr>\n",
       "  </tbody>\n",
       "</table>\n",
       "</div>"
      ],
      "text/plain": [
       "                  column  result__statistic  result__pvalue  mean_rep  \\\n",
       "0    handicapped-infants          -9.205264    1.613440e-18  0.187879   \n",
       "1          water-project           0.088965    9.291557e-01  0.506757   \n",
       "2                 budget         -23.212777    2.070340e-77  0.134146   \n",
       "3   physician-fee-freeze          49.367082   1.994262e-177  0.987879   \n",
       "4        el-salvador-aid          21.136693    5.600520e-68  0.951515   \n",
       "5       religious-groups           9.737576    2.393672e-20  0.897590   \n",
       "6     anti-satellite-ban         -12.526188    8.521033e-31  0.240741   \n",
       "7         aid-to-contras         -18.052093    2.824718e-54  0.152866   \n",
       "8             mx-missile         -16.437503    5.030793e-47  0.115152   \n",
       "9            immigration           1.735912    8.330248e-02  0.557576   \n",
       "10              synfuels          -8.293604    1.575932e-15  0.132075   \n",
       "11             education          20.500686    1.883420e-64  0.870968   \n",
       "12          right-to-sue          13.510643    1.227858e-34  0.860759   \n",
       "13                 crime          16.342086    9.952343e-47  0.981366   \n",
       "14             duty-free         -12.853146    5.997697e-32  0.089744   \n",
       "15          south-africa          -6.849455    3.652674e-11  0.657534   \n",
       "\n",
       "    mean_dem  \n",
       "0   0.604651  \n",
       "1   0.502092  \n",
       "2   0.888462  \n",
       "3   0.054054  \n",
       "4   0.215686  \n",
       "5   0.476744  \n",
       "6   0.772201  \n",
       "7   0.828897  \n",
       "8   0.758065  \n",
       "9   0.471483  \n",
       "10  0.505882  \n",
       "11  0.144578  \n",
       "12  0.289683  \n",
       "13  0.350195  \n",
       "14  0.637450  \n",
       "15  0.935135  "
      ]
     },
     "execution_count": 10,
     "metadata": {},
     "output_type": "execute_result"
    }
   ],
   "source": [
    "def to_dataframe(array_of_dict):\n",
    "    fixed = Map(lambda d: flatten(d), array_of_dict)\n",
    "    return pd.DataFrame(fixed)\n",
    "test_df = to_dataframe(ttest_ind_results)\n",
    "test_df"
   ]
  },
  {
   "cell_type": "code",
   "execution_count": 18,
   "metadata": {
    "inputHidden": false,
    "outputHidden": false
   },
   "outputs": [
    {
     "data": {
      "application/vnd.plotly.v1+json": {
       "config": {
        "plotlyServerURL": "https://plot.ly"
       },
       "data": [
        {
         "mode": "markers",
         "text": [
          "handicapped-infants",
          "water-project",
          "budget",
          "physician-fee-freeze",
          "el-salvador-aid",
          "religious-groups",
          "anti-satellite-ban",
          "aid-to-contras",
          "mx-missile",
          "immigration",
          "synfuels",
          "education",
          "right-to-sue",
          "crime",
          "duty-free",
          "south-africa"
         ],
         "type": "scatter",
         "x": [
          0,
          1,
          2,
          3,
          4,
          5,
          6,
          7,
          8,
          9,
          10,
          11,
          12,
          13,
          14,
          15
         ],
         "y": [
          -9.205264294809222,
          0.08896538137868286,
          -23.21277691701378,
          49.36708157301406,
          21.13669261173219,
          9.737575825219457,
          -12.526187929077842,
          -18.052093200819733,
          -16.437503268542994,
          1.7359117329695164,
          -8.293603989407588,
          20.500685724563073,
          13.51064251060933,
          16.342085656197696,
          -12.853146132542978,
          -6.849454815841208
         ]
        }
       ],
       "layout": {
        "template": {
         "data": {
          "bar": [
           {
            "error_x": {
             "color": "#2a3f5f"
            },
            "error_y": {
             "color": "#2a3f5f"
            },
            "marker": {
             "line": {
              "color": "#E5ECF6",
              "width": 0.5
             }
            },
            "type": "bar"
           }
          ],
          "barpolar": [
           {
            "marker": {
             "line": {
              "color": "#E5ECF6",
              "width": 0.5
             }
            },
            "type": "barpolar"
           }
          ],
          "carpet": [
           {
            "aaxis": {
             "endlinecolor": "#2a3f5f",
             "gridcolor": "white",
             "linecolor": "white",
             "minorgridcolor": "white",
             "startlinecolor": "#2a3f5f"
            },
            "baxis": {
             "endlinecolor": "#2a3f5f",
             "gridcolor": "white",
             "linecolor": "white",
             "minorgridcolor": "white",
             "startlinecolor": "#2a3f5f"
            },
            "type": "carpet"
           }
          ],
          "choropleth": [
           {
            "colorbar": {
             "outlinewidth": 0,
             "ticks": ""
            },
            "type": "choropleth"
           }
          ],
          "contour": [
           {
            "colorbar": {
             "outlinewidth": 0,
             "ticks": ""
            },
            "colorscale": [
             [
              0,
              "#0d0887"
             ],
             [
              0.1111111111111111,
              "#46039f"
             ],
             [
              0.2222222222222222,
              "#7201a8"
             ],
             [
              0.3333333333333333,
              "#9c179e"
             ],
             [
              0.4444444444444444,
              "#bd3786"
             ],
             [
              0.5555555555555556,
              "#d8576b"
             ],
             [
              0.6666666666666666,
              "#ed7953"
             ],
             [
              0.7777777777777778,
              "#fb9f3a"
             ],
             [
              0.8888888888888888,
              "#fdca26"
             ],
             [
              1,
              "#f0f921"
             ]
            ],
            "type": "contour"
           }
          ],
          "contourcarpet": [
           {
            "colorbar": {
             "outlinewidth": 0,
             "ticks": ""
            },
            "type": "contourcarpet"
           }
          ],
          "heatmap": [
           {
            "colorbar": {
             "outlinewidth": 0,
             "ticks": ""
            },
            "colorscale": [
             [
              0,
              "#0d0887"
             ],
             [
              0.1111111111111111,
              "#46039f"
             ],
             [
              0.2222222222222222,
              "#7201a8"
             ],
             [
              0.3333333333333333,
              "#9c179e"
             ],
             [
              0.4444444444444444,
              "#bd3786"
             ],
             [
              0.5555555555555556,
              "#d8576b"
             ],
             [
              0.6666666666666666,
              "#ed7953"
             ],
             [
              0.7777777777777778,
              "#fb9f3a"
             ],
             [
              0.8888888888888888,
              "#fdca26"
             ],
             [
              1,
              "#f0f921"
             ]
            ],
            "type": "heatmap"
           }
          ],
          "heatmapgl": [
           {
            "colorbar": {
             "outlinewidth": 0,
             "ticks": ""
            },
            "colorscale": [
             [
              0,
              "#0d0887"
             ],
             [
              0.1111111111111111,
              "#46039f"
             ],
             [
              0.2222222222222222,
              "#7201a8"
             ],
             [
              0.3333333333333333,
              "#9c179e"
             ],
             [
              0.4444444444444444,
              "#bd3786"
             ],
             [
              0.5555555555555556,
              "#d8576b"
             ],
             [
              0.6666666666666666,
              "#ed7953"
             ],
             [
              0.7777777777777778,
              "#fb9f3a"
             ],
             [
              0.8888888888888888,
              "#fdca26"
             ],
             [
              1,
              "#f0f921"
             ]
            ],
            "type": "heatmapgl"
           }
          ],
          "histogram": [
           {
            "marker": {
             "colorbar": {
              "outlinewidth": 0,
              "ticks": ""
             }
            },
            "type": "histogram"
           }
          ],
          "histogram2d": [
           {
            "colorbar": {
             "outlinewidth": 0,
             "ticks": ""
            },
            "colorscale": [
             [
              0,
              "#0d0887"
             ],
             [
              0.1111111111111111,
              "#46039f"
             ],
             [
              0.2222222222222222,
              "#7201a8"
             ],
             [
              0.3333333333333333,
              "#9c179e"
             ],
             [
              0.4444444444444444,
              "#bd3786"
             ],
             [
              0.5555555555555556,
              "#d8576b"
             ],
             [
              0.6666666666666666,
              "#ed7953"
             ],
             [
              0.7777777777777778,
              "#fb9f3a"
             ],
             [
              0.8888888888888888,
              "#fdca26"
             ],
             [
              1,
              "#f0f921"
             ]
            ],
            "type": "histogram2d"
           }
          ],
          "histogram2dcontour": [
           {
            "colorbar": {
             "outlinewidth": 0,
             "ticks": ""
            },
            "colorscale": [
             [
              0,
              "#0d0887"
             ],
             [
              0.1111111111111111,
              "#46039f"
             ],
             [
              0.2222222222222222,
              "#7201a8"
             ],
             [
              0.3333333333333333,
              "#9c179e"
             ],
             [
              0.4444444444444444,
              "#bd3786"
             ],
             [
              0.5555555555555556,
              "#d8576b"
             ],
             [
              0.6666666666666666,
              "#ed7953"
             ],
             [
              0.7777777777777778,
              "#fb9f3a"
             ],
             [
              0.8888888888888888,
              "#fdca26"
             ],
             [
              1,
              "#f0f921"
             ]
            ],
            "type": "histogram2dcontour"
           }
          ],
          "mesh3d": [
           {
            "colorbar": {
             "outlinewidth": 0,
             "ticks": ""
            },
            "type": "mesh3d"
           }
          ],
          "parcoords": [
           {
            "line": {
             "colorbar": {
              "outlinewidth": 0,
              "ticks": ""
             }
            },
            "type": "parcoords"
           }
          ],
          "scatter": [
           {
            "marker": {
             "colorbar": {
              "outlinewidth": 0,
              "ticks": ""
             }
            },
            "type": "scatter"
           }
          ],
          "scatter3d": [
           {
            "line": {
             "colorbar": {
              "outlinewidth": 0,
              "ticks": ""
             }
            },
            "marker": {
             "colorbar": {
              "outlinewidth": 0,
              "ticks": ""
             }
            },
            "type": "scatter3d"
           }
          ],
          "scattercarpet": [
           {
            "marker": {
             "colorbar": {
              "outlinewidth": 0,
              "ticks": ""
             }
            },
            "type": "scattercarpet"
           }
          ],
          "scattergeo": [
           {
            "marker": {
             "colorbar": {
              "outlinewidth": 0,
              "ticks": ""
             }
            },
            "type": "scattergeo"
           }
          ],
          "scattergl": [
           {
            "marker": {
             "colorbar": {
              "outlinewidth": 0,
              "ticks": ""
             }
            },
            "type": "scattergl"
           }
          ],
          "scattermapbox": [
           {
            "marker": {
             "colorbar": {
              "outlinewidth": 0,
              "ticks": ""
             }
            },
            "type": "scattermapbox"
           }
          ],
          "scatterpolar": [
           {
            "marker": {
             "colorbar": {
              "outlinewidth": 0,
              "ticks": ""
             }
            },
            "type": "scatterpolar"
           }
          ],
          "scatterpolargl": [
           {
            "marker": {
             "colorbar": {
              "outlinewidth": 0,
              "ticks": ""
             }
            },
            "type": "scatterpolargl"
           }
          ],
          "scatterternary": [
           {
            "marker": {
             "colorbar": {
              "outlinewidth": 0,
              "ticks": ""
             }
            },
            "type": "scatterternary"
           }
          ],
          "surface": [
           {
            "colorbar": {
             "outlinewidth": 0,
             "ticks": ""
            },
            "colorscale": [
             [
              0,
              "#0d0887"
             ],
             [
              0.1111111111111111,
              "#46039f"
             ],
             [
              0.2222222222222222,
              "#7201a8"
             ],
             [
              0.3333333333333333,
              "#9c179e"
             ],
             [
              0.4444444444444444,
              "#bd3786"
             ],
             [
              0.5555555555555556,
              "#d8576b"
             ],
             [
              0.6666666666666666,
              "#ed7953"
             ],
             [
              0.7777777777777778,
              "#fb9f3a"
             ],
             [
              0.8888888888888888,
              "#fdca26"
             ],
             [
              1,
              "#f0f921"
             ]
            ],
            "type": "surface"
           }
          ],
          "table": [
           {
            "cells": {
             "fill": {
              "color": "#EBF0F8"
             },
             "line": {
              "color": "white"
             }
            },
            "header": {
             "fill": {
              "color": "#C8D4E3"
             },
             "line": {
              "color": "white"
             }
            },
            "type": "table"
           }
          ]
         },
         "layout": {
          "annotationdefaults": {
           "arrowcolor": "#2a3f5f",
           "arrowhead": 0,
           "arrowwidth": 1
          },
          "colorscale": {
           "diverging": [
            [
             0,
             "#8e0152"
            ],
            [
             0.1,
             "#c51b7d"
            ],
            [
             0.2,
             "#de77ae"
            ],
            [
             0.3,
             "#f1b6da"
            ],
            [
             0.4,
             "#fde0ef"
            ],
            [
             0.5,
             "#f7f7f7"
            ],
            [
             0.6,
             "#e6f5d0"
            ],
            [
             0.7,
             "#b8e186"
            ],
            [
             0.8,
             "#7fbc41"
            ],
            [
             0.9,
             "#4d9221"
            ],
            [
             1,
             "#276419"
            ]
           ],
           "sequential": [
            [
             0,
             "#0d0887"
            ],
            [
             0.1111111111111111,
             "#46039f"
            ],
            [
             0.2222222222222222,
             "#7201a8"
            ],
            [
             0.3333333333333333,
             "#9c179e"
            ],
            [
             0.4444444444444444,
             "#bd3786"
            ],
            [
             0.5555555555555556,
             "#d8576b"
            ],
            [
             0.6666666666666666,
             "#ed7953"
            ],
            [
             0.7777777777777778,
             "#fb9f3a"
            ],
            [
             0.8888888888888888,
             "#fdca26"
            ],
            [
             1,
             "#f0f921"
            ]
           ],
           "sequentialminus": [
            [
             0,
             "#0d0887"
            ],
            [
             0.1111111111111111,
             "#46039f"
            ],
            [
             0.2222222222222222,
             "#7201a8"
            ],
            [
             0.3333333333333333,
             "#9c179e"
            ],
            [
             0.4444444444444444,
             "#bd3786"
            ],
            [
             0.5555555555555556,
             "#d8576b"
            ],
            [
             0.6666666666666666,
             "#ed7953"
            ],
            [
             0.7777777777777778,
             "#fb9f3a"
            ],
            [
             0.8888888888888888,
             "#fdca26"
            ],
            [
             1,
             "#f0f921"
            ]
           ]
          },
          "colorway": [
           "#636efa",
           "#EF553B",
           "#00cc96",
           "#ab63fa",
           "#FFA15A",
           "#19d3f3",
           "#FF6692",
           "#B6E880",
           "#FF97FF",
           "#FECB52"
          ],
          "font": {
           "color": "#2a3f5f"
          },
          "geo": {
           "bgcolor": "white",
           "lakecolor": "white",
           "landcolor": "#E5ECF6",
           "showlakes": true,
           "showland": true,
           "subunitcolor": "white"
          },
          "hoverlabel": {
           "align": "left"
          },
          "hovermode": "closest",
          "mapbox": {
           "style": "light"
          },
          "paper_bgcolor": "white",
          "plot_bgcolor": "#E5ECF6",
          "polar": {
           "angularaxis": {
            "gridcolor": "white",
            "linecolor": "white",
            "ticks": ""
           },
           "bgcolor": "#E5ECF6",
           "radialaxis": {
            "gridcolor": "white",
            "linecolor": "white",
            "ticks": ""
           }
          },
          "scene": {
           "xaxis": {
            "backgroundcolor": "#E5ECF6",
            "gridcolor": "white",
            "gridwidth": 2,
            "linecolor": "white",
            "showbackground": true,
            "ticks": "",
            "zerolinecolor": "white"
           },
           "yaxis": {
            "backgroundcolor": "#E5ECF6",
            "gridcolor": "white",
            "gridwidth": 2,
            "linecolor": "white",
            "showbackground": true,
            "ticks": "",
            "zerolinecolor": "white"
           },
           "zaxis": {
            "backgroundcolor": "#E5ECF6",
            "gridcolor": "white",
            "gridwidth": 2,
            "linecolor": "white",
            "showbackground": true,
            "ticks": "",
            "zerolinecolor": "white"
           }
          },
          "shapedefaults": {
           "line": {
            "color": "#2a3f5f"
           }
          },
          "ternary": {
           "aaxis": {
            "gridcolor": "white",
            "linecolor": "white",
            "ticks": ""
           },
           "baxis": {
            "gridcolor": "white",
            "linecolor": "white",
            "ticks": ""
           },
           "bgcolor": "#E5ECF6",
           "caxis": {
            "gridcolor": "white",
            "linecolor": "white",
            "ticks": ""
           }
          },
          "title": {
           "x": 0.05
          },
          "xaxis": {
           "automargin": true,
           "gridcolor": "white",
           "linecolor": "white",
           "ticks": "",
           "zerolinecolor": "white",
           "zerolinewidth": 2
          },
          "yaxis": {
           "automargin": true,
           "gridcolor": "white",
           "linecolor": "white",
           "ticks": "",
           "zerolinecolor": "white",
           "zerolinewidth": 2
          }
         }
        },
        "title": {
         "text": "Differences in Voting"
        }
       }
      },
      "text/html": [
       "<div>\n",
       "        \n",
       "        \n",
       "            <div id=\"bb28e07e-c827-4ace-8393-de20a7326dc8\" class=\"plotly-graph-div\" style=\"height:525px; width:100%;\"></div>\n",
       "            <script type=\"text/javascript\">\n",
       "                require([\"plotly\"], function(Plotly) {\n",
       "                    window.PLOTLYENV=window.PLOTLYENV || {};\n",
       "                    \n",
       "                if (document.getElementById(\"bb28e07e-c827-4ace-8393-de20a7326dc8\")) {\n",
       "                    Plotly.newPlot(\n",
       "                        'bb28e07e-c827-4ace-8393-de20a7326dc8',\n",
       "                        [{\"mode\": \"markers\", \"text\": [\"handicapped-infants\", \"water-project\", \"budget\", \"physician-fee-freeze\", \"el-salvador-aid\", \"religious-groups\", \"anti-satellite-ban\", \"aid-to-contras\", \"mx-missile\", \"immigration\", \"synfuels\", \"education\", \"right-to-sue\", \"crime\", \"duty-free\", \"south-africa\"], \"type\": \"scatter\", \"x\": [0, 1, 2, 3, 4, 5, 6, 7, 8, 9, 10, 11, 12, 13, 14, 15], \"y\": [-9.205264294809222, 0.08896538137868286, -23.21277691701378, 49.36708157301406, 21.13669261173219, 9.737575825219457, -12.526187929077842, -18.052093200819733, -16.437503268542994, 1.7359117329695164, -8.293603989407588, 20.500685724563073, 13.51064251060933, 16.342085656197696, -12.853146132542978, -6.849454815841208]}],\n",
       "                        {\"template\": {\"data\": {\"bar\": [{\"error_x\": {\"color\": \"#2a3f5f\"}, \"error_y\": {\"color\": \"#2a3f5f\"}, \"marker\": {\"line\": {\"color\": \"#E5ECF6\", \"width\": 0.5}}, \"type\": \"bar\"}], \"barpolar\": [{\"marker\": {\"line\": {\"color\": \"#E5ECF6\", \"width\": 0.5}}, \"type\": \"barpolar\"}], \"carpet\": [{\"aaxis\": {\"endlinecolor\": \"#2a3f5f\", \"gridcolor\": \"white\", \"linecolor\": \"white\", \"minorgridcolor\": \"white\", \"startlinecolor\": \"#2a3f5f\"}, \"baxis\": {\"endlinecolor\": \"#2a3f5f\", \"gridcolor\": \"white\", \"linecolor\": \"white\", \"minorgridcolor\": \"white\", \"startlinecolor\": \"#2a3f5f\"}, \"type\": \"carpet\"}], \"choropleth\": [{\"colorbar\": {\"outlinewidth\": 0, \"ticks\": \"\"}, \"type\": \"choropleth\"}], \"contour\": [{\"colorbar\": {\"outlinewidth\": 0, \"ticks\": \"\"}, \"colorscale\": [[0.0, \"#0d0887\"], [0.1111111111111111, \"#46039f\"], [0.2222222222222222, \"#7201a8\"], [0.3333333333333333, \"#9c179e\"], [0.4444444444444444, \"#bd3786\"], [0.5555555555555556, \"#d8576b\"], [0.6666666666666666, \"#ed7953\"], [0.7777777777777778, \"#fb9f3a\"], [0.8888888888888888, \"#fdca26\"], [1.0, \"#f0f921\"]], \"type\": \"contour\"}], \"contourcarpet\": [{\"colorbar\": {\"outlinewidth\": 0, \"ticks\": \"\"}, \"type\": \"contourcarpet\"}], \"heatmap\": [{\"colorbar\": {\"outlinewidth\": 0, \"ticks\": \"\"}, \"colorscale\": [[0.0, \"#0d0887\"], [0.1111111111111111, \"#46039f\"], [0.2222222222222222, \"#7201a8\"], [0.3333333333333333, \"#9c179e\"], [0.4444444444444444, \"#bd3786\"], [0.5555555555555556, \"#d8576b\"], [0.6666666666666666, \"#ed7953\"], [0.7777777777777778, \"#fb9f3a\"], [0.8888888888888888, \"#fdca26\"], [1.0, \"#f0f921\"]], \"type\": \"heatmap\"}], \"heatmapgl\": [{\"colorbar\": {\"outlinewidth\": 0, \"ticks\": \"\"}, \"colorscale\": [[0.0, \"#0d0887\"], [0.1111111111111111, \"#46039f\"], [0.2222222222222222, \"#7201a8\"], [0.3333333333333333, \"#9c179e\"], [0.4444444444444444, \"#bd3786\"], [0.5555555555555556, \"#d8576b\"], [0.6666666666666666, \"#ed7953\"], [0.7777777777777778, \"#fb9f3a\"], [0.8888888888888888, \"#fdca26\"], [1.0, \"#f0f921\"]], \"type\": \"heatmapgl\"}], \"histogram\": [{\"marker\": {\"colorbar\": {\"outlinewidth\": 0, \"ticks\": \"\"}}, \"type\": \"histogram\"}], \"histogram2d\": [{\"colorbar\": {\"outlinewidth\": 0, \"ticks\": \"\"}, \"colorscale\": [[0.0, \"#0d0887\"], [0.1111111111111111, \"#46039f\"], [0.2222222222222222, \"#7201a8\"], [0.3333333333333333, \"#9c179e\"], [0.4444444444444444, \"#bd3786\"], [0.5555555555555556, \"#d8576b\"], [0.6666666666666666, \"#ed7953\"], [0.7777777777777778, \"#fb9f3a\"], [0.8888888888888888, \"#fdca26\"], [1.0, \"#f0f921\"]], \"type\": \"histogram2d\"}], \"histogram2dcontour\": [{\"colorbar\": {\"outlinewidth\": 0, \"ticks\": \"\"}, \"colorscale\": [[0.0, \"#0d0887\"], [0.1111111111111111, \"#46039f\"], [0.2222222222222222, \"#7201a8\"], [0.3333333333333333, \"#9c179e\"], [0.4444444444444444, \"#bd3786\"], [0.5555555555555556, \"#d8576b\"], [0.6666666666666666, \"#ed7953\"], [0.7777777777777778, \"#fb9f3a\"], [0.8888888888888888, \"#fdca26\"], [1.0, \"#f0f921\"]], \"type\": \"histogram2dcontour\"}], \"mesh3d\": [{\"colorbar\": {\"outlinewidth\": 0, \"ticks\": \"\"}, \"type\": \"mesh3d\"}], \"parcoords\": [{\"line\": {\"colorbar\": {\"outlinewidth\": 0, \"ticks\": \"\"}}, \"type\": \"parcoords\"}], \"scatter\": [{\"marker\": {\"colorbar\": {\"outlinewidth\": 0, \"ticks\": \"\"}}, \"type\": \"scatter\"}], \"scatter3d\": [{\"line\": {\"colorbar\": {\"outlinewidth\": 0, \"ticks\": \"\"}}, \"marker\": {\"colorbar\": {\"outlinewidth\": 0, \"ticks\": \"\"}}, \"type\": \"scatter3d\"}], \"scattercarpet\": [{\"marker\": {\"colorbar\": {\"outlinewidth\": 0, \"ticks\": \"\"}}, \"type\": \"scattercarpet\"}], \"scattergeo\": [{\"marker\": {\"colorbar\": {\"outlinewidth\": 0, \"ticks\": \"\"}}, \"type\": \"scattergeo\"}], \"scattergl\": [{\"marker\": {\"colorbar\": {\"outlinewidth\": 0, \"ticks\": \"\"}}, \"type\": \"scattergl\"}], \"scattermapbox\": [{\"marker\": {\"colorbar\": {\"outlinewidth\": 0, \"ticks\": \"\"}}, \"type\": \"scattermapbox\"}], \"scatterpolar\": [{\"marker\": {\"colorbar\": {\"outlinewidth\": 0, \"ticks\": \"\"}}, \"type\": \"scatterpolar\"}], \"scatterpolargl\": [{\"marker\": {\"colorbar\": {\"outlinewidth\": 0, \"ticks\": \"\"}}, \"type\": \"scatterpolargl\"}], \"scatterternary\": [{\"marker\": {\"colorbar\": {\"outlinewidth\": 0, \"ticks\": \"\"}}, \"type\": \"scatterternary\"}], \"surface\": [{\"colorbar\": {\"outlinewidth\": 0, \"ticks\": \"\"}, \"colorscale\": [[0.0, \"#0d0887\"], [0.1111111111111111, \"#46039f\"], [0.2222222222222222, \"#7201a8\"], [0.3333333333333333, \"#9c179e\"], [0.4444444444444444, \"#bd3786\"], [0.5555555555555556, \"#d8576b\"], [0.6666666666666666, \"#ed7953\"], [0.7777777777777778, \"#fb9f3a\"], [0.8888888888888888, \"#fdca26\"], [1.0, \"#f0f921\"]], \"type\": \"surface\"}], \"table\": [{\"cells\": {\"fill\": {\"color\": \"#EBF0F8\"}, \"line\": {\"color\": \"white\"}}, \"header\": {\"fill\": {\"color\": \"#C8D4E3\"}, \"line\": {\"color\": \"white\"}}, \"type\": \"table\"}]}, \"layout\": {\"annotationdefaults\": {\"arrowcolor\": \"#2a3f5f\", \"arrowhead\": 0, \"arrowwidth\": 1}, \"colorscale\": {\"diverging\": [[0, \"#8e0152\"], [0.1, \"#c51b7d\"], [0.2, \"#de77ae\"], [0.3, \"#f1b6da\"], [0.4, \"#fde0ef\"], [0.5, \"#f7f7f7\"], [0.6, \"#e6f5d0\"], [0.7, \"#b8e186\"], [0.8, \"#7fbc41\"], [0.9, \"#4d9221\"], [1, \"#276419\"]], \"sequential\": [[0.0, \"#0d0887\"], [0.1111111111111111, \"#46039f\"], [0.2222222222222222, \"#7201a8\"], [0.3333333333333333, \"#9c179e\"], [0.4444444444444444, \"#bd3786\"], [0.5555555555555556, \"#d8576b\"], [0.6666666666666666, \"#ed7953\"], [0.7777777777777778, \"#fb9f3a\"], [0.8888888888888888, \"#fdca26\"], [1.0, \"#f0f921\"]], \"sequentialminus\": [[0.0, \"#0d0887\"], [0.1111111111111111, \"#46039f\"], [0.2222222222222222, \"#7201a8\"], [0.3333333333333333, \"#9c179e\"], [0.4444444444444444, \"#bd3786\"], [0.5555555555555556, \"#d8576b\"], [0.6666666666666666, \"#ed7953\"], [0.7777777777777778, \"#fb9f3a\"], [0.8888888888888888, \"#fdca26\"], [1.0, \"#f0f921\"]]}, \"colorway\": [\"#636efa\", \"#EF553B\", \"#00cc96\", \"#ab63fa\", \"#FFA15A\", \"#19d3f3\", \"#FF6692\", \"#B6E880\", \"#FF97FF\", \"#FECB52\"], \"font\": {\"color\": \"#2a3f5f\"}, \"geo\": {\"bgcolor\": \"white\", \"lakecolor\": \"white\", \"landcolor\": \"#E5ECF6\", \"showlakes\": true, \"showland\": true, \"subunitcolor\": \"white\"}, \"hoverlabel\": {\"align\": \"left\"}, \"hovermode\": \"closest\", \"mapbox\": {\"style\": \"light\"}, \"paper_bgcolor\": \"white\", \"plot_bgcolor\": \"#E5ECF6\", \"polar\": {\"angularaxis\": {\"gridcolor\": \"white\", \"linecolor\": \"white\", \"ticks\": \"\"}, \"bgcolor\": \"#E5ECF6\", \"radialaxis\": {\"gridcolor\": \"white\", \"linecolor\": \"white\", \"ticks\": \"\"}}, \"scene\": {\"xaxis\": {\"backgroundcolor\": \"#E5ECF6\", \"gridcolor\": \"white\", \"gridwidth\": 2, \"linecolor\": \"white\", \"showbackground\": true, \"ticks\": \"\", \"zerolinecolor\": \"white\"}, \"yaxis\": {\"backgroundcolor\": \"#E5ECF6\", \"gridcolor\": \"white\", \"gridwidth\": 2, \"linecolor\": \"white\", \"showbackground\": true, \"ticks\": \"\", \"zerolinecolor\": \"white\"}, \"zaxis\": {\"backgroundcolor\": \"#E5ECF6\", \"gridcolor\": \"white\", \"gridwidth\": 2, \"linecolor\": \"white\", \"showbackground\": true, \"ticks\": \"\", \"zerolinecolor\": \"white\"}}, \"shapedefaults\": {\"line\": {\"color\": \"#2a3f5f\"}}, \"ternary\": {\"aaxis\": {\"gridcolor\": \"white\", \"linecolor\": \"white\", \"ticks\": \"\"}, \"baxis\": {\"gridcolor\": \"white\", \"linecolor\": \"white\", \"ticks\": \"\"}, \"bgcolor\": \"#E5ECF6\", \"caxis\": {\"gridcolor\": \"white\", \"linecolor\": \"white\", \"ticks\": \"\"}}, \"title\": {\"x\": 0.05}, \"xaxis\": {\"automargin\": true, \"gridcolor\": \"white\", \"linecolor\": \"white\", \"ticks\": \"\", \"zerolinecolor\": \"white\", \"zerolinewidth\": 2}, \"yaxis\": {\"automargin\": true, \"gridcolor\": \"white\", \"linecolor\": \"white\", \"ticks\": \"\", \"zerolinecolor\": \"white\", \"zerolinewidth\": 2}}}, \"title\": {\"text\": \"Differences in Voting\"}},\n",
       "                        {\"responsive\": true}\n",
       "                    ).then(function(){\n",
       "                            \n",
       "var gd = document.getElementById('bb28e07e-c827-4ace-8393-de20a7326dc8');\n",
       "var x = new MutationObserver(function (mutations, observer) {{\n",
       "        var display = window.getComputedStyle(gd).display;\n",
       "        if (!display || display === 'none') {{\n",
       "            console.log([gd, 'removed!']);\n",
       "            Plotly.purge(gd);\n",
       "            observer.disconnect();\n",
       "        }}\n",
       "}});\n",
       "\n",
       "// Listen for the removal of the full notebook cells\n",
       "var notebookContainer = gd.closest('#notebook-container');\n",
       "if (notebookContainer) {{\n",
       "    x.observe(notebookContainer, {childList: true});\n",
       "}}\n",
       "\n",
       "// Listen for the clearing of the current output cell\n",
       "var outputEl = gd.closest('.output');\n",
       "if (outputEl) {{\n",
       "    x.observe(outputEl, {childList: true});\n",
       "}}\n",
       "\n",
       "                        })\n",
       "                };\n",
       "                });\n",
       "            </script>\n",
       "        </div>"
      ]
     },
     "metadata": {},
     "output_type": "display_data"
    }
   ],
   "source": [
    "import plotly.express as px\n",
    "import plotly.graph_objects as go\n",
    "import plotly.io as pio\n",
    "\n",
    "               \n",
    "\n",
    "\n",
    "test_df['index'] = test_df.index\n",
    "fig = go.Figure(data=go.Scatter(x=test_df['index'],y=test_df['result__statistic'], \n",
    "                                text=test_df['column'], mode='markers'))\n",
    "fig.update_layout(title='Differences in Voting')\n",
    "# todo label xaxes or label points and so forth\n",
    "fig.show()\n"
   ]
  },
  {
   "cell_type": "markdown",
   "metadata": {},
   "source": [
    "- Using hypothesis testing, find an issue that democrats support more than republicans with p < 0.01\n",
    "\n",
    "Handicapped infants.\n",
    "- Using hypothesis testing, find an issue that republicans support more than democrats with p < 0.01\n",
    "\n",
    "Physician-fee-freeze\n",
    "- Using hypothesis testing, find an issue where the difference between republicans and democrats has p > 0.1 (i.e. there may not be much of a difference\n",
    "\n",
    "Water-project. p-value is .929.\n"
   ]
  }
 ],
 "metadata": {
  "kernelspec": {
   "display_name": "Python 3",
   "language": "python",
   "name": "python3"
  },
  "language_info": {
   "codemirror_mode": {
    "name": "ipython",
    "version": 3
   },
   "file_extension": ".py",
   "mimetype": "text/x-python",
   "name": "python",
   "nbconvert_exporter": "python",
   "pygments_lexer": "ipython3",
   "version": "3.7.3"
  },
  "nteract": {
   "version": "nteract-on-jupyter@2.1.3"
  }
 },
 "nbformat": 4,
 "nbformat_minor": 2
}

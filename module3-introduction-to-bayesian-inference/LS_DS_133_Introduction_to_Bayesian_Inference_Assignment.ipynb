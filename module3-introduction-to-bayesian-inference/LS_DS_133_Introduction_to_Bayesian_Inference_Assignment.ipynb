{
 "cells": [
  {
   "cell_type": "markdown",
   "metadata": {
    "colab_type": "text",
    "id": "view-in-github"
   },
   "source": [
    "<a href=\"https://colab.research.google.com/github/ryanleeallred/DS-Unit-1-Sprint-3-Statistical-Tests-and-Experiments/blob/master/module3-introduction-to-bayesian-inference/LS_DS_133_Introduction_to_Bayesian_Inference_Assignment.ipynb\" target=\"_parent\"><img src=\"https://colab.research.google.com/assets/colab-badge.svg\" alt=\"Open In Colab\"/></a>"
   ]
  },
  {
   "cell_type": "markdown",
   "metadata": {
    "colab_type": "text",
    "id": "H7OLbevlbd_Z"
   },
   "source": [
    "# Lambda School Data Science Module 133\n",
    "\n",
    "## Introduction to Bayesian Inference\n",
    "\n",
    "\n"
   ]
  },
  {
   "cell_type": "markdown",
   "metadata": {
    "colab_type": "text",
    "id": "P-DzzRk5bf0z"
   },
   "source": [
    "## Assignment - Code it up!\n",
    "\n",
    "Most of the above was pure math - now write Python code to reproduce the results! This is purposefully open ended - you'll have to think about how you should represent probabilities and events. You can and should look things up, and as a stretch goal - refactor your code into helpful reusable functions!\n",
    "\n",
    "Specific goals/targets:\n",
    "\n",
    "1. Write a function `def prob_drunk_given_positive(prob_drunk_prior, prob_positive, prob_positive_drunk)` that reproduces the example from lecture, and use it to calculate and visualize a range of situations\n",
    "2. Explore `scipy.stats.bayes_mvs` - read its documentation, and experiment with it on data you've tested in other ways earlier this week\n",
    "3. Create a visualization comparing the results of a Bayesian approach to a traditional/frequentist approach\n",
    "4. In your own words, summarize the difference between Bayesian and Frequentist statistics\n",
    "\n",
    "If you're unsure where to start, check out [this blog post of Bayes theorem with Python](https://dataconomy.com/2015/02/introduction-to-bayes-theorem-with-python/) - you could and should create something similar!\n",
    "\n",
    "Stretch goals:\n",
    "\n",
    "- Apply a Bayesian technique to a problem you previously worked (in an assignment or project work) on from a frequentist (standard) perspective\n",
    "- Check out [PyMC3](https://docs.pymc.io/) (note this goes beyond hypothesis tests into modeling) - read the guides and work through some examples\n",
    "- Take PyMC3 further - see if you can build something with it!"
   ]
  },
  {
   "cell_type": "code",
   "execution_count": 1,
   "metadata": {},
   "outputs": [],
   "source": [
    "import pandas as pd\n",
    "import collections\n",
    "import pprint\n",
    "from scipy import stats as stats\n",
    "from itertools import combinations\n",
    "from collections import ChainMap\n",
    "from functools import reduce\n",
    "import numpy as np"
   ]
  },
  {
   "cell_type": "code",
   "execution_count": 2,
   "metadata": {},
   "outputs": [],
   "source": [
    "# def bayes_theorem(prior, false_positive, false_negative, num_iterations):\n",
    "#   probabilities = []\n",
    "#   for blah in range(num_iterations):\n",
    "#     posterior_probability = #do the bayes awesomeness\n",
    "#     probabilities.append(posterior_probability)\n",
    "#   return probabilities"
   ]
  },
  {
   "cell_type": "markdown",
   "metadata": {},
   "source": [
    "$$\n",
    "\\begin{aligned}\n",
    "P(Drunk | Positive) &= \\frac{P(Positive) | Drunk) P(Drunk)} {P(Positive)} \\\\\n",
    "&= \\frac{1 \\times 0.001}{0.08} \\\\\n",
    "&= 0.0125\n",
    "\\end{aligned}\n",
    "$$"
   ]
  },
  {
   "cell_type": "code",
   "execution_count": 3,
   "metadata": {},
   "outputs": [
    {
     "data": {
      "text/plain": [
       "0.0125"
      ]
     },
     "execution_count": 3,
     "metadata": {},
     "output_type": "execute_result"
    }
   ],
   "source": [
    "def prob_drunk_given_positive(prob_drunk_prior, prob_positive, prob_positive_drunk):\n",
    "    return (prob_positive_drunk*prob_drunk_prior) / (prob_positive)\n",
    "\n",
    "prob_drunk_given_positive(prob_drunk_prior=1e-3, prob_positive=8e-2,prob_positive_drunk=1 )"
   ]
  },
  {
   "cell_type": "code",
   "execution_count": 4,
   "metadata": {},
   "outputs": [],
   "source": [
    "??stats.bayes_mvs"
   ]
  },
  {
   "cell_type": "code",
   "execution_count": 5,
   "metadata": {},
   "outputs": [],
   "source": [
    "# returns mean, variance, and standard deviation named tuples calculated for\n",
    "# the baynessian confidence intervals\n",
    "# def bayes_mvs(data, alpha):\n",
    "#     m,v,s = mvsdist(data)\n",
    "#     if alpha >= 1 or alpha <= 0:\n",
    "#         raise ValueError(\"0 < alpha < 1 is required, but alpha=%s was given.\" % \n",
    "#                         alpha)\n",
    "#     m_res = Mean(m.mean(), m.interval(alpha))\n",
    "#     v_res = Variance(v.mean(), v.interal(alpha))\n",
    "#     s_res = Std_dev(s.mean(), s.interval(alpha))\n",
    "#     return m_res, v_res, s_res"
   ]
  },
  {
   "cell_type": "code",
   "execution_count": 6,
   "metadata": {},
   "outputs": [],
   "source": [
    "# force map to evaluate and put the result into a list\n",
    "\n",
    "# f -> [a b] = [f(a) f(b)]\n",
    "def Map(func, iterable):\n",
    "    v = []\n",
    "    \n",
    "    for thing in map(compose(func), iterable):\n",
    "        v.append(thing)\n",
    "    return v\n",
    "\n",
    "# compose(f) = f\n",
    "# compose(f, g) = f(g)\n",
    "# compose([f,g]) # f(g)\n",
    "def compose(*functions):\n",
    "    if type(first(functions))==type([]): \n",
    "        return reduce(lambda f, g: lambda x: f(g(x)), first(functions), lambda x: x)\n",
    "    elif len(functions)==1 and type(first(functions))!=type([]):\n",
    "        return first(functions)\n",
    "    else: \n",
    "        return reduce(lambda f, g: lambda x: f(g(x)), functions, lambda x: x)\n",
    "\n",
    "# evaluates func (one functions or many) over the iterable\n",
    "def DoOn(func, iterable):\n",
    "    return Map(lambda x: compose(func)(x), iterable)\n",
    "        \n",
    "\n",
    "# coerce to dict\n",
    "def Dict(thing):\n",
    "    result = {}\n",
    "    topkey = None\n",
    "    \n",
    "    # classname needs to be set as the name otherwise\n",
    "    # not included\n",
    "    if hasattr(thing, \"__class__\"):\n",
    "        topkey = thing.__class__.__name__\n",
    "    # fix for dataframes\n",
    "    if hasattr(thing, \"to_dict\"):\n",
    "        result = thing.to_dict('records')\n",
    "    # fix for named tuples\n",
    "    elif hasattr(thing, \"_asdict\"):\n",
    "        result = dict(thing._asdict())\n",
    "    else:\n",
    "        result = dict(thing)\n",
    "    \n",
    "    if topkey:\n",
    "        return {topkey: result}\n",
    "    else:\n",
    "        return result\n",
    "\n",
    "def to_dataframe(array_of_dict, one_observation=False):\n",
    "    fixed = DoOn([flatten, Dict], array_of_dict)\n",
    "    # this is only one observation, just make a row for a dataframe\n",
    "    if one_observation:\n",
    "        fixed = [dict(ChainMap(*fixed))]\n",
    "    return pd.DataFrame(fixed)\n",
    "\n",
    "# like dict.items but more general\n",
    "def Items(thing):\n",
    "    if type(thing)==type({}):\n",
    "        return list(zip(thing.keys(), thing.values()))\n",
    "    else:\n",
    "        return list(zip(np.arange(len(thing)), thing))\n",
    "\n",
    "# ywhile : yield while\n",
    "def ywhile(func, val):\n",
    "    while True:\n",
    "        val = compose(func)(val)\n",
    "        yield val\n",
    "        if not val:\n",
    "            break\n",
    "            \n",
    "def dec(num):\n",
    "    return num - 1\n",
    "\n",
    "def inc(num):\n",
    "    return num + 1\n",
    "            \n",
    "# prior : prior knowledge of probability\n",
    "# true_pos : true positive probability\n",
    "def bayes(prior, true_pos, false_pos):\n",
    "    # new estimate\n",
    "    return ((true_pos * prior) / (true_pos * prior + false_pos * (1 - prior)))\n",
    "\n",
    "def rest(thing):\n",
    "    return thing[1:]\n",
    "\n",
    "def first(thing):\n",
    "    return thing[0]\n",
    "\n",
    "def last(thing):\n",
    "    return thing[-1]\n",
    "    \n",
    "# call function n times, putting the accumulated\n",
    "# value in the first argument position, that's why it's called cumulative\n",
    "# Gen : Generate\n",
    "# L : Lazy\n",
    "# Generate Cumulative N times, Lazy\n",
    "def GenNCumulativeL(func,n,*args, **kwargs):\n",
    "    new_val = first(args)\n",
    "    for i in ywhile(dec, n):\n",
    "        new_val = compose(func)(new_val,*rest(args), **kwargs)\n",
    "        yield new_val\n",
    "        \n",
    "\n",
    "# Generate Cumulative N times, Non-Lazy\n",
    "def GenNCumulative(func,n,*args, **kwargs):\n",
    "    return list(GenNCumulativeL(func,n,*args, **kwargs))\n",
    "    \n",
    "# yield the function called with args and kwargs n times\n",
    "# Generate N times, Lazy\n",
    "def GenNL(func, n, *args, **kwargs):\n",
    "    for i in ywhile(dec, n):\n",
    "        yield func(*args, **kwargs)\n",
    "        \n",
    "# Generate N times, Non-Lazy\n",
    "def GenN(func, n, *args, **kwargs):\n",
    "    return list(GenNL(func, n, *args, **kwargs))\n",
    "\n",
    "def square(x):\n",
    "    return x*x"
   ]
  },
  {
   "cell_type": "code",
   "execution_count": 7,
   "metadata": {},
   "outputs": [
    {
     "data": {
      "text/plain": [
       "[4, 4, 4, 4, 4]"
      ]
     },
     "execution_count": 7,
     "metadata": {},
     "output_type": "execute_result"
    }
   ],
   "source": [
    "GenN(square, 5, 2)"
   ]
  },
  {
   "cell_type": "code",
   "execution_count": 8,
   "metadata": {},
   "outputs": [
    {
     "data": {
      "text/plain": [
       "[4, 8, 16, 32, 64]"
      ]
     },
     "execution_count": 8,
     "metadata": {},
     "output_type": "execute_result"
    }
   ],
   "source": [
    "GenNCumulative([lambda x: x+x,], 5, 2)"
   ]
  },
  {
   "cell_type": "code",
   "execution_count": 9,
   "metadata": {},
   "outputs": [
    {
     "data": {
      "text/plain": [
       "[625, 10000, 50625]"
      ]
     },
     "execution_count": 9,
     "metadata": {},
     "output_type": "execute_result"
    }
   ],
   "source": [
    "Map( [square, square], [5, 10, 15])"
   ]
  },
  {
   "cell_type": "code",
   "execution_count": 10,
   "metadata": {},
   "outputs": [
    {
     "data": {
      "text/plain": [
       "(Mean(statistic=0.42, minmax=(0.33763713292148456, 0.5023628670785154)),\n",
       " Variance(statistic=0.2511340206185568, minmax=(0.19768680236634642, 0.3161733908770034)),\n",
       " Std_dev(statistic=0.4998428440976869, minmax=(0.4446198402752023, 0.5622929760160653)))"
      ]
     },
     "execution_count": 10,
     "metadata": {},
     "output_type": "execute_result"
    }
   ],
   "source": [
    "coinflips = np.random.binomial(n=1, p=.5, size=100)\n",
    "bayesian_results = stats.bayes_mvs(coinflips)\n",
    "bayesian_results "
   ]
  },
  {
   "cell_type": "code",
   "execution_count": 11,
   "metadata": {},
   "outputs": [
    {
     "data": {
      "text/plain": [
       "{'Mean': 0.42, 'Lower': 0.33763713292148456, 'Upper': 0.5023628670785154}"
      ]
     },
     "execution_count": 11,
     "metadata": {},
     "output_type": "execute_result"
    }
   ],
   "source": [
    "def confidence_interval(X):\n",
    "    std = np.std(X, ddof=1)\n",
    "    n = len(X)\n",
    "    standard_error = std / np.sqrt(n)\n",
    "    t = stats.t.ppf(.95, n - 1)\n",
    "    margin_of_error = t * standard_error\n",
    "    return {'Mean' : np.mean(X), 'Lower' : np.mean(X)-margin_of_error, 'Upper' : np.mean(X)+margin_of_error}\n",
    "\n",
    "CI = confidence_interval(coinflips)\n",
    "CI"
   ]
  },
  {
   "cell_type": "code",
   "execution_count": 12,
   "metadata": {},
   "outputs": [
    {
     "data": {
      "text/plain": [
       "[{'Mean': {'statistic': 0.42,\n",
       "   'minmax': (0.33763713292148456, 0.5023628670785154)}},\n",
       " {'Variance': {'statistic': 0.2511340206185568,\n",
       "   'minmax': (0.19768680236634642, 0.3161733908770034)}},\n",
       " {'Std_dev': {'statistic': 0.4998428440976869,\n",
       "   'minmax': (0.4446198402752023, 0.5622929760160653)}}]"
      ]
     },
     "execution_count": 12,
     "metadata": {},
     "output_type": "execute_result"
    }
   ],
   "source": [
    "DoOn(Dict, bayesian_results)"
   ]
  },
  {
   "cell_type": "code",
   "execution_count": 13,
   "metadata": {},
   "outputs": [
    {
     "name": "stdout",
     "output_type": "stream",
     "text": [
      "{'Mean': {'statistic': 0.42, 'minmax': (0.33763713292148456, 0.5023628670785154)}}\n",
      "{'Variance': {'statistic': 0.2511340206185568, 'minmax': (0.19768680236634642, 0.3161733908770034)}}\n",
      "{'Std_dev': {'statistic': 0.4998428440976869, 'minmax': (0.4446198402752023, 0.5622929760160653)}}\n"
     ]
    },
    {
     "data": {
      "text/plain": [
       "[None, None, None]"
      ]
     },
     "execution_count": 13,
     "metadata": {},
     "output_type": "execute_result"
    }
   ],
   "source": [
    "[print(Dict(x)) for x in bayesian_results]"
   ]
  },
  {
   "cell_type": "code",
   "execution_count": 14,
   "metadata": {},
   "outputs": [
    {
     "name": "stdout",
     "output_type": "stream",
     "text": [
      "CI:  {'Mean': 0.42, 'Lower': 0.33763713292148456, 'Upper': 0.5023628670785154}\n",
      "Baynesian:  {'Mean': 0.42, 'Lower': 0.33763713292148456, 'Upper': 0.5023628670785154}\n"
     ]
    },
    {
     "data": {
      "text/plain": [
       "<Figure size 640x480 with 1 Axes>"
      ]
     },
     "metadata": {},
     "output_type": "display_data"
    }
   ],
   "source": [
    "import seaborn as sns\n",
    "import matplotlib.pyplot as plt\n",
    "\n",
    "def myplot(df):\n",
    "    sns.kdeplot(df)\n",
    "    CI = confidence_interval(df)\n",
    "    print(\"CI: \", CI)\n",
    "    plt.axvline(x=CI[\"Mean\" ], color='red',label ='Right {:.2f}'.format(CI[\"Mean\" ]))\n",
    "    plt.axvline(x=CI[\"Lower\"], color='red',label ='Left  {:.2f}'.format(CI[\"Lower\"]))\n",
    "    plt.axvline(x=CI[\"Upper\"], color='k'  ,label ='mean  {:.2f}'.format(CI[\"Upper\"]));\n",
    "    \n",
    "    bresults = stats.bayes_mvs(df)\n",
    "    results = DoOn(Dict, bresults)[0][\"Mean\"]\n",
    "    results = {\"Mean\" : results[\"statistic\"], \"Lower\": results[\"minmax\"][0],\"Upper\": results[\"minmax\"][1]}\n",
    "    print(\"Baynesian: \", results)\n",
    "    plt.axvline(x=results[\"Mean\" ], color='green' ,label ='Right {:.2f}'.format(results[\"Mean\" ]))\n",
    "    plt.axvline(x=results[\"Lower\"], color='green' ,label ='Left  {:.2f}'.format(results[\"Lower\"]))\n",
    "    plt.axvline(x=results[\"Upper\"], color='purple',label ='mean  {:.2f}'.format(results[\"Upper\"]));\n",
    "    plt.legend()\n",
    "    plt.show()\n",
    "    \n",
    "    \n",
    "myplot(coinflips)"
   ]
  },
  {
   "cell_type": "code",
   "execution_count": 15,
   "metadata": {},
   "outputs": [],
   "source": [
    "df = pd.read_csv('house-votes-84.data', header=None\n",
    "                 , names=['party','handicapped-infants','water-project',\n",
    "                          'budget','physician-fee-freeze', 'el-salvador-aid',\n",
    "                          'religious-groups','anti-satellite-ban',\n",
    "                          'aid-to-contras','mx-missile','immigration',\n",
    "                          'synfuels', 'education', 'right-to-sue','crime','duty-free',\n",
    "                          'south-africa'])\n",
    "df = df.replace({\"?\" : np.nan, \"y\" : 1, \"n\" :0})"
   ]
  },
  {
   "cell_type": "code",
   "execution_count": 16,
   "metadata": {},
   "outputs": [],
   "source": [
    "rep = df[df.party=='republican']"
   ]
  },
  {
   "cell_type": "code",
   "execution_count": 17,
   "metadata": {},
   "outputs": [
    {
     "name": "stdout",
     "output_type": "stream",
     "text": [
      "CI:  {'Mean': 0.1, 'Lower': 0.02814781891796017, 'Upper': 0.17185218108203984}\n",
      "Baynesian:  {'Mean': 0.1, 'Lower': 0.028147818917960143, 'Upper': 0.17185218108203984}\n"
     ]
    },
    {
     "data": {
      "image/png": "[encoded data removed]",
      "text/plain": [
       "<Figure size 432x288 with 1 Axes>"
      ]
     },
     "metadata": {
      "needs_background": "light"
     },
     "output_type": "display_data"
    }
   ],
   "source": [
    "# look at chart I looked at last time\n",
    "myplot(rep['synfuels'].dropna().sample(n=50))"
   ]
  },
  {
   "cell_type": "markdown",
   "metadata": {},
   "source": [
    "![](https://wikimedia.org/api/rest_v1/media/math/render/svg/95c6524a3736c43e4bae139713f3df2392e6eda9)"
   ]
  },
  {
   "cell_type": "markdown",
   "metadata": {},
   "source": [
    "The frequentist statistician is maybe aiming to be right most of the time and is maybe less concerned or thinking less about conditional probabilties that is fundamental to the baynesian approach. The frequentist approach seems like it would rely more on statistics rather than the baynesian process of updating by case and seems mathematically seems built upon the idea of sets."
   ]
  },
  {
   "cell_type": "code",
   "execution_count": 18,
   "metadata": {},
   "outputs": [
    {
     "data": {
      "text/plain": [
       "[0.10734463276836159,\n",
       " 0.6955684007707129,\n",
       " 0.9774832549522589,\n",
       " 0.9987890771695063,\n",
       " 0.9999361940218644]"
      ]
     },
     "execution_count": 18,
     "metadata": {},
     "output_type": "execute_result"
    }
   ],
   "source": [
    "GenNCumulative(bayes, 5, rep['synfuels'].mean()/rep['synfuels'].sum(), .95, .05)"
   ]
  },
  {
   "cell_type": "code",
   "execution_count": 19,
   "metadata": {},
   "outputs": [
    {
     "data": {
      "text/plain": [
       "[0.018664047151277015,\n",
       " 0.26544117647058824,\n",
       " 0.8728684143547976,\n",
       " 0.9923926286932684,\n",
       " 0.999596705499742]"
      ]
     },
     "execution_count": 19,
     "metadata": {},
     "output_type": "execute_result"
    }
   ],
   "source": [
    "GenNCumulative(bayes, 5, 1/1000, .95, .05)"
   ]
  },
  {
   "cell_type": "markdown",
   "metadata": {
    "colab_type": "text",
    "id": "uWgWjp3PQ3Sq"
   },
   "source": [
    "## Resources\n"
   ]
  },
  {
   "cell_type": "markdown",
   "metadata": {
    "colab_type": "text",
    "id": "QRgHqmYIQ9qn"
   },
   "source": [
    "- [Worked example of Bayes rule calculation](https://en.wikipedia.org/wiki/Bayes'_theorem#Examples) (helpful as it fully breaks out the denominator)\n",
    "- [Source code for mvsdist in scipy](https://github.com/scipy/scipy/blob/90534919e139d2a81c24bf08341734ff41a3db12/scipy/stats/morestats.py#L139)"
   ]
  }
 ],
 "metadata": {
  "colab": {
   "include_colab_link": true,
   "name": "LS_DS_133_Introduction_to_Bayesian_Inference_Assignment.ipynb",
   "provenance": [],
   "version": "0.3.2"
  },
  "kernelspec": {
   "display_name": "Python 3",
   "language": "python",
   "name": "python3"
  },
  "language_info": {
   "codemirror_mode": {
    "name": "ipython",
    "version": 3
   },
   "file_extension": ".py",
   "mimetype": "text/x-python",
   "name": "python",
   "nbconvert_exporter": "python",
   "pygments_lexer": "ipython3",
   "version": "3.7.4"
  }
 },
 "nbformat": 4,
 "nbformat_minor": 1
}
